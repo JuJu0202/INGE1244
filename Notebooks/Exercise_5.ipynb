{
 "cells": [
  {
   "cell_type": "markdown",
   "id": "c4438a77",
   "metadata": {},
   "source": [
    "# Exercise 1\n",
    "\n",
    "Consider the following circuit, where the battery (neglect its internal resistance) has a potential $V_{0}$:\n",
    "\n",
    "<img title=\"a title\" alt=\"Alt text\" src=\"../Figures/Exercise 5/RC.png\" width=\"400\">\n",
    "\n",
    "The capacitor is initially uncharged. An infinitesimally short time after switch A is closed, the current in the circuit is:\n",
    "\n",
    "1. $V_{0}/R$\n",
    "2. zero\n",
    "3. need more information"
   ]
  },
  {
   "cell_type": "markdown",
   "id": "c8892530",
   "metadata": {},
   "source": [
    "# Exercise 2\n",
    "\n",
    "Without looking to your notes, find the time evolution of the current flowing in the capacitor branch (flowing \"throught\" the capacitor) from the time ($t=0$) where switch A is closed in the above circuit. "
   ]
  },
  {
   "cell_type": "markdown",
   "id": "0e656143",
   "metadata": {},
   "source": [
    "# Exercise 3\n",
    "\n",
    "Alice plays with switch A and B. She closes switch B permanently. She then closes switch A during $\\frac{T}{2}$ seconds and opens it for the next $\\frac{T}{2}$ seconds. She repeats this process over and over. The voltage measured in point \"1\" looks like this:\n",
    "\n",
    "<img title=\"a title\" alt=\"Alt text\" src=\"../Figures/Exercise 5/signal.png\" width=\"700\">\n",
    "\n",
    "Considering that the resistor is 20 $M\\Omega$ (mega-Ohm = 1000 $k\\Omega$) and the capacitance is 1 $\\mu F$, can she transfer efficiently her signal to point \"2\" if $T$ is two seconds? Why?"
   ]
  },
  {
   "cell_type": "markdown",
   "id": "69491f91",
   "metadata": {},
   "source": [
    "# Exercise 4\n",
    "\n",
    "This exercise can be done at the end of today's session.\n",
    "\n",
    "Consult the following document from Stanford university:\n",
    "\n",
    "https://web.stanford.edu/class/archive/engr/engr40m.1178/slides/transient.pdf\n",
    "\n",
    "and solve exercise 3. Valuable information can be found in page 2 (e.g. \"Therefore, we don't solve differential equations every time we see a capacitor\")."
   ]
  },
  {
   "cell_type": "markdown",
   "id": "19bb3690",
   "metadata": {},
   "source": [
    "# Prototyping in electronics (from components to final products)\n",
    "\n",
    "As a user of electronic products, you may be familiar with the concept of **black box**. The concept of black box refers to a certain level of abstraction where you do not care about the actual way things are done (implemented), all you care is that there is a relation between the **inputs** and the **outputs**. \n",
    "\n",
    "For example, from the point of view of investors, a company is a black box. Indeed you can invest money (input) in the company and expect a return on investment (ROI, the output). At this level of abstraction, you do not (and to a certain level, cannot) care about the exact way your money will be converted to more money (or less). \n",
    "\n",
    "The inputs, as well as the outputs, can be single or multiples (digital or analogic). Here is an example of a single input signal ($x(t)$) / single output signal ($y(t)$).\n",
    "\n",
    "<img title=\"a title\" alt=\"Alt text\" src=\"../Figures/Exercise 5/blackbox_1.png\" width=\"700\">\n",
    "\n",
    "If I happen to tell you that the output and the input are a function of each other, the blackbox turns out to be a real world object. There is a bijection between the output value and the input value. This function ($y(t)=f(x(t))$ - called the **transfer function**) can vary in nature. It can be a bijective deterministic function or a statistical function (static - output described by probability distribution with time-invariant parameter or dynamical - the probability distribution parameters vary with time (the average shifts with time) or the distribution itself that vary. \n",
    "\n",
    "For example, you all, as a group of students, can be represented as a black box regarding the process of learning physics. The output is the grades distribution (average, standard deviation, etc.) and the inputs are multiples (all the courses, the influence of COVID, how good the teacher is, etc). Listing the relevant inputs is an interesting task when trying to understand (or master) a phenomenon. Here is a representation of the aforementioned process (BBENG 2nd year students learning physics).\n",
    "\n",
    "<img title=\"a title\" alt=\"Alt text\" src=\"../Figures/Exercise 5/blackbox.png\" width=\"700\">\n",
    "\n",
    "Disclaimer: This distribution is not the actual grades distribution. It is a completely random distribution. PS: If this was the actual distribution, I would feel sad because it would reflect a \"debatable\" teaching process.\n",
    "\n",
    "Anyway, let us realize another exercise."
   ]
  },
  {
   "cell_type": "markdown",
   "id": "183625de",
   "metadata": {},
   "source": [
    "# Exercise 5\n",
    "\n",
    "Realize your own example of a blackbox. Don't hesitate to debate it with other students as it can be a subtle task."
   ]
  },
  {
   "cell_type": "markdown",
   "id": "db91a81f",
   "metadata": {},
   "source": [
    "In electronics, from a business engineering point of view, the products in developement can be considered as blackbox. Indeed, you will not be asked to deal with the actual implementation of the product (weither we chose that specific IC or that other one...). For example, consider a **microphone**.\n",
    "\n",
    "Here is the blackbox paradigm:\n",
    "\n",
    "<img title=\"a title\" alt=\"Alt text\" src=\"../Figures/Exercise 5/micro.png\" width=\"700\">\n",
    "\n",
    "A small signal input (a whistle) is amplified into a large output signal. The transfer function is simple to establish. What we want is:\n",
    "\n",
    "$$y(t)=f(x(t))=A\\; x(t)$$\n",
    "\n",
    "where $A$ is a constant amplification factor - hopefully large ($A>>1)$. Note that we do not want any lag of the output. The delay must be, ideally, **zero**. If $x(t)$ starts at time $t=0$ then, we do not want $y$ to be a function of $t-\\delta$ (where $\\delta$ is the delay). \n",
    "\n",
    "In order to tend towards the real world implementation, a engineer could propose the following figure:\n",
    "\n",
    "<img title=\"a title\" alt=\"Alt text\" src=\"../Figures/Exercise 5/micro_2.png\" width=\"700\">\n",
    "\n",
    "And then would start to **prototype**.\n",
    "\n",
    "In electronics, **prototyping** can be done thanks to **breadboards** (on which circuits can be realized without soldering any components).  Look to the following video on the working principle of breadboards and then keep going with your session: \n",
    "\n",
    "https://www.youtube.com/watch?v=6WReFkfrUIk"
   ]
  },
  {
   "cell_type": "markdown",
   "id": "c53ad966",
   "metadata": {},
   "source": [
    "# Exercise 6\n",
    "\n",
    "Consider the following circuits realized onto breadboards. For each circuit, should the light be picture as \"On\" or \"OFF\"?\n",
    "\n",
    "<img title=\"a title\" alt=\"Alt text\" src=\"../Figures/Exercise 5/light_bulb.png\" width=\"1000\">"
   ]
  },
  {
   "cell_type": "markdown",
   "id": "bc4924a4",
   "metadata": {},
   "source": [
    "# Comment on modeling and simulations (using Tinkercad)\n",
    "\n",
    "<img title=\"a title\" alt=\"Alt text\" src=\"../Figures/Exercise 5/RC_breadboard.png\" width=\"1000\">"
   ]
  },
  {
   "cell_type": "code",
   "execution_count": null,
   "id": "7f9dd0f8",
   "metadata": {},
   "outputs": [],
   "source": []
  }
 ],
 "metadata": {
  "kernelspec": {
   "display_name": "Python 3 (ipykernel)",
   "language": "python",
   "name": "python3"
  },
  "language_info": {
   "codemirror_mode": {
    "name": "ipython",
    "version": 3
   },
   "file_extension": ".py",
   "mimetype": "text/x-python",
   "name": "python",
   "nbconvert_exporter": "python",
   "pygments_lexer": "ipython3",
   "version": "3.9.7"
  }
 },
 "nbformat": 4,
 "nbformat_minor": 5
}
