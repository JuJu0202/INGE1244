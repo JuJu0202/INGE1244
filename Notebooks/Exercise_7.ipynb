{
 "cells": [
  {
   "cell_type": "markdown",
   "id": "30a09087",
   "metadata": {},
   "source": [
    "# Keywords list\n",
    "\n",
    "Switches, logic gates (2 or 3 bits), arbitrary basis counting (binary, etc.), scales, PCB, IC (conceptual supply chain), electromotive force, resistor, capacitor, vector field, Gauss law, Operational amplifier, black box, feedback, RC circuit, Relaxation oscillator, Basic OpAmp circuits, breadboard, sensor, oscilloscope, filter \n",
    "\n",
    "# Troubles at Texas instruments\n",
    "\n",
    "Please, find the following document on github: corrupted_manual_TI.pdf\n",
    "    \n",
    "1. The informative note on the OpAmp of a big company designing ICs has been corrupted by a hacker. You discovered the subtle corruption because your sales (regarding this specific category of product) dropped by an unprecedent 5% (subtle but noticable). The average Joe would have neglected this drop but, as a skilled business engineer, you started an investigation and understood the reason behind these \"moving\" customers: without a proper manual, it was not possible to clarify the product specifications. Your task is to correct the equations in the manual (all of them ?). \n",
    "\n",
    "The solution (uncorrupted document) can be found here: \n",
    "\n",
    "https://www.ti.com/lit/an/sloa011b/sloa011b.pdf\n",
    "\n",
    "2. After fixing the problem, you propose to complement this technical note to enlarge your customer perspectives on this product's usages. In addition to the \"non-inverting amplifier\" and the \"inverting amplifier\", you propose a note on the \"inverting integrator\" and the \"inverting differentiator\". Write down your note in the kind of pedagogical style (clarify the name of the circuit, etc.) as the already existing circuits (present in the original manual). Here are the two circuits:\n",
    "\n",
    "#### Inverting integrator\n",
    "\n",
    "<img title=\"a title\" alt=\"Alt text\" src=\"../Figures/Exercise 7/invertingintegrator.png\" width=\"300\">\n",
    "\n",
    "#### Inverting differentiator\n",
    "\n",
    "<img title=\"a title\" alt=\"Alt text\" src=\"../Figures/Exercise 7/invertingdifferentiator.png\" width=\"300\">\n",
    "\n",
    "Try by yourself, but if you need an extra help, you can consult this wikipedia page with the \"solution\" (the equations are correct but you could not copy and paste it, as is, in the manual):\n",
    "\n",
    "https://en.wikipedia.org/wiki/Operational_amplifier_applications\n",
    "\n",
    "Eventually, the key question is: Would I publish your answer in the manual ?\n",
    "\n",
    "|        Review rating         | Points  |              Rating of answer          |\n",
    "|:-----------------------------|:-------:|---------------------------------------:|\n",
    "|       publish as is          |    3    |        perfect or nearly perfect       |\n",
    "| publish after minor revision |    2    |   small errors that require revision   |\n",
    "|            reject            |    1    | little or no relevance to the question |"
   ]
  },
  {
   "cell_type": "code",
   "execution_count": null,
   "id": "a3c853fc",
   "metadata": {},
   "outputs": [],
   "source": []
  }
 ],
 "metadata": {
  "kernelspec": {
   "display_name": "Python 3 (ipykernel)",
   "language": "python",
   "name": "python3"
  },
  "language_info": {
   "codemirror_mode": {
    "name": "ipython",
    "version": 3
   },
   "file_extension": ".py",
   "mimetype": "text/x-python",
   "name": "python",
   "nbconvert_exporter": "python",
   "pygments_lexer": "ipython3",
   "version": "3.9.7"
  }
 },
 "nbformat": 4,
 "nbformat_minor": 5
}
