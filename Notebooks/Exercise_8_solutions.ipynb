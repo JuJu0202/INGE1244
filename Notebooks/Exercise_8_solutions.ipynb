{
 "cells": [
  {
   "cell_type": "markdown",
   "id": "dd836911",
   "metadata": {},
   "source": [
    "# Exercise 0\n",
    "\n",
    "1. Since the two resistors are equal, the value is irrelevant. The voltage drops from 4.5V in the first resistor and again 4.5V in the second (short answer: 4.5V). Potential is then raised in the battery from the ground (0) to 9V - closing the circuit.\n",
    "2. The current flowing in the circuit is \n",
    "$$I=\\frac{9(V)}{(1k+3k)(\\Omega)}$$\n",
    "The voltage drop in the $3k$ resistor is simply $\\Delta V=3000\\times I=9\\times\\frac{3}{4}$\n",
    "3. What is the voltage at node 3 of circuit (c)?\n",
    "The same reasoning as in point 2 is used here. Except that one has to compute the equivalent resistor of all the resistors connected in parallel after the $1k$ resistor, which is equal to $2.5k\\Omega$. The total equivalent resistor is then $3.5k\\Omega$. The voltage at node 3 is then $\\Delta V=3000\\times I=9\\times\\frac{2.5}{3.5}$ \n",
    "4. The well-known RC-circuit where $R=1k\\Omega$ and $C=1nF$.\n",
    "5. The capacitor can be considered as charged, typically after 3 time constant ($\\tau=RC$) which is $3\\mu s$. \n",
    "6. The voltage evolves as a function of time thanks to:\n",
    "$$\\Delta V(t)=9\\times\\left(1-exp\\left(\\frac{-t}{\\tau}\\right)\\right)$$\n",
    "7. The equivalent capacitor is given by \n",
    "$$\\frac{1}{C_{eq}}=\\frac{1}{1nF}+\\frac{1}{2nF}$$\n",
    "which gives $C_{eq}=\\frac{2}{3}nF$. The charge on **both** top plates of the capacitor is given by $Q=C_{eq}\\times V$ which is equal to $6\\;nC$. The voltage at node 5 is then given by \n",
    "$$V=\\frac{Q}{C}=\\frac{6\\;nC}{2\\;nF}=3V$$\n",
    "The remaining 6V are associated to the other capacitor (6+3=9).\n",
    "8. The energy is given by\n",
    "$$E=\\frac{CV^{2}}{2}=\\frac{(2nF)(3V)^{2}}{2}\\;=9 \\;nJ$$\n",
    "9. Simply 9V (since the capacitor are connected in parallel).\n",
    "10. $E=2\\times\\frac{CV^{2}}{2}=81\\;nJ$\n",
    "11. The voltage is 9V and the resistor is $5k\\Omega$ so the current is given by $I=\\frac{9}{5000}\\;(A)$. \n",
    "\n",
    "12. There are 3 blue ($C=1nF$) capacitors for which $V=9V$, hence, $E=3\\times \\frac{81\\;nJ}{2}$. One blue ($C=1nF$) capacitor for which $V=6V$, hence, $E=18\\;nJ$. The total energy is then $100\\;nJ$."
   ]
  },
  {
   "cell_type": "markdown",
   "id": "56b4d33d",
   "metadata": {},
   "source": [
    "# Exercise 1\n",
    "\n",
    "1. $R_{eq}=1000+\\left(\\frac{1}{5000}+\\frac{1}{3000}\\right)^{-1}=2875\\Omega$\n",
    "2. (a) Equivalent (b) Not equivalent because the 1k resistor connects two points that are shortcutted on the breadboard (c) Equivalent"
   ]
  },
  {
   "cell_type": "markdown",
   "id": "3e5817cb",
   "metadata": {},
   "source": [
    "# Exercise 2\n",
    "\n",
    "Given that the three resistors are in parallel, the equivalent resistance is given as:\n",
    "\n",
    "$$R_{eq}=\\left(\\frac{1}{1000}+\\frac{1}{5000}+\\frac{1}{3000}\\right)^{-1}=652.17...\\Omega$$"
   ]
  },
  {
   "cell_type": "markdown",
   "id": "eb867e12",
   "metadata": {},
   "source": [
    "# Exercise 3\n",
    "\n",
    "<img title=\"a title\" alt=\"Alt text\" src=\"../Figures/Exercise 8/Exercice_3_sol.png\" width=\"400\">"
   ]
  },
  {
   "cell_type": "markdown",
   "id": "57aa479f",
   "metadata": {},
   "source": [
    "# Exercise 4\n",
    "\n",
    "1. The OpAmp is here used in the \"inverting amplifier\" circuit. \n",
    "\n",
    "<img title=\"a title\" alt=\"Alt text\" src=\"../Figures/Exercise 8/inverting_ampli.jpg\" width=\"400\">\n",
    "\n",
    "2. The output and input should be connected as follows:\n",
    "\n",
    "<img title=\"a title\" alt=\"Alt text\" src=\"../Figures/Exercise 8/Exercice_4_sol.png\" width=\"400\">\n",
    "\n",
    "The amplifying factor is given by:\n",
    "\n",
    "$$A=-\\frac{R_{2}}{R_{1}}=-5$$"
   ]
  },
  {
   "cell_type": "markdown",
   "id": "7846e232",
   "metadata": {},
   "source": [
    "# Exercise 5\n",
    "\n",
    "1. Here is the circuit:\n",
    "\n",
    "<img title=\"a title\" alt=\"Alt text\" src=\"../Figures/Exercise 8/circuit.png\" width=\"400\">\n",
    "\n",
    "2. The time period is given by (see course 10):\n",
    "\n",
    "$$T=2\\times ln(2)\\times RC=1.386...\\mu s$$\n",
    "\n",
    "which gives a frequency \n",
    "\n",
    "$$f=\\frac{1}{T}=0.721...\\;MHz\\;(Mega-Hertz)$$"
   ]
  },
  {
   "cell_type": "code",
   "execution_count": null,
   "id": "4353ef6a",
   "metadata": {},
   "outputs": [],
   "source": []
  }
 ],
 "metadata": {
  "kernelspec": {
   "display_name": "Python 3 (ipykernel)",
   "language": "python",
   "name": "python3"
  },
  "language_info": {
   "codemirror_mode": {
    "name": "ipython",
    "version": 3
   },
   "file_extension": ".py",
   "mimetype": "text/x-python",
   "name": "python",
   "nbconvert_exporter": "python",
   "pygments_lexer": "ipython3",
   "version": "3.9.7"
  }
 },
 "nbformat": 4,
 "nbformat_minor": 5
}
