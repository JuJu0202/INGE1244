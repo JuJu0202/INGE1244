{
 "cells": [
  {
   "cell_type": "markdown",
   "id": "a74ef59e",
   "metadata": {},
   "source": [
    "# Methodological electronic journey\n",
    "\n",
    "These \"boxes\" were detailed during the ex-cathedra session (this notebook is not meant to be self-consistant)(it is true for all notebooks, that are tought to be complemented by your own notes - but this one especially).\n",
    "\n",
    "### Medium\n",
    "\n",
    "### Sensors\n",
    "\n",
    "### Circuits\n",
    "\n",
    "In the circuit \"box\", an example was detailed: the relaxation oscillator. It was realized both virtually and experimentally. Please find here the two pictures of the circuits realized on breadboards:\n",
    "\n",
    "- Virtually:\n",
    "\n",
    "<img title=\"a title\" alt=\"Alt text\" src=\"../Figures/Cours 10/TinkerCad_Relaxation_Oscillator.png\" width=\"800\">\n",
    "\n",
    "The element that symbolizes a capacitor is in blue.\n",
    "\n",
    "- Experimentally:\n",
    "\n",
    "<img title=\"a title\" alt=\"Alt text\" src=\"../Figures/Cours 10/LM324_relaxation_oscillator.jpg\" width=\"800\">\n",
    "\n",
    "Pay attention to the fact that the **rotary variable capacitor** (https://en.wikipedia.org/wiki/Variable_capacitor) is not connected on this picture, as well as the power supply. Pay also attention that, the **topology** of these two circuit is the same but not the actual way the wires are connected. \n",
    "\n",
    "The pin configuration of the **LM324** (four OpAmp) can be found here:\n",
    "\n",
    "https://www.ti.com/lit/ds/symlink/lm324.pdf\n",
    "\n",
    "Recall that, an OpAmp used in an **open loop configuration** (infinite gain) is considered as a comparator (\"0\" or \"1\" signal).\n",
    "\n",
    "### Signal\n",
    "\n",
    "We derived explicitely the time period ($T$) of the oscillating signal as a function of $R$ and $C$. \n",
    "\n",
    "$$T=2\\times ln(2)\\times R \\times C$$\n",
    "\n",
    "which explicitates the central formula of course 8:\n",
    "\n",
    "$$f\\propto \\frac{1}{RC}$$\n",
    "\n",
    "\n",
    "### Processing and communicating the signal\n",
    "\n",
    "### Human/Machine interface"
   ]
  },
  {
   "cell_type": "code",
   "execution_count": null,
   "id": "f93e6022",
   "metadata": {},
   "outputs": [],
   "source": []
  }
 ],
 "metadata": {
  "kernelspec": {
   "display_name": "Python 3 (ipykernel)",
   "language": "python",
   "name": "python3"
  },
  "language_info": {
   "codemirror_mode": {
    "name": "ipython",
    "version": 3
   },
   "file_extension": ".py",
   "mimetype": "text/x-python",
   "name": "python",
   "nbconvert_exporter": "python",
   "pygments_lexer": "ipython3",
   "version": "3.9.7"
  }
 },
 "nbformat": 4,
 "nbformat_minor": 5
}
