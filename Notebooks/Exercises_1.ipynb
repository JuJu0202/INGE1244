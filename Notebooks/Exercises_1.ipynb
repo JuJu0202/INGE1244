{
 "cells": [
  {
   "cell_type": "markdown",
   "id": "f53f0b8a",
   "metadata": {},
   "source": [
    "## An poorly managed deadline\n",
    "\n",
    "Looking through your SPAM folder, you happen to discover the following e-mail:\n",
    "\n",
    "Object: Your contribution to SCEECS\n",
    "To: You\n",
    "Cc:program@sceecs.com, info@sceecs.com, seecs2023@seecs.com\n",
    "\n",
    "Dear Colleague,\n",
    "\n",
    "A few months ago, we contacted you to give a guest lecture at our international conference in electronics (https://sceecs.ieeenitb.com). We thank you deeply for being part of the adventure. We kindly remind you that your **10 minutes** talk begins on February 17 at **12:00** in room 2100. Also, to our best knowledge, we cannot find your abstract for the presentation. Could you send it to us after your presentation? Please find the template in attachment.\n",
    "\n",
    "We insist on the fact that your audience is composed of specialists in the field but the presence of journalists and politics was also encouraged given the socio-economic impact of the topics presented this year. Be as impactful as possible to give your audience your principal insights.\n",
    "\n",
    "In attachment, please find, as an inspiration, the introductory talk from last year on **Waste Electrical and Electronic Equipment (WEEE)**.\n",
    "\n",
    "Kind regards,\n",
    "\n",
    "The SCEECS organizing Committee\n",
    "\n",
    "## What can we do on such a short notice ?\n",
    "\n",
    "As your timing is really short:\n",
    "\n",
    "1. From groups from 3 to 5 students and tell me the topic your group selects (3 min)\n",
    "\n",
    "As a reminder, here are the possible subjects:\n",
    "\n",
    "- Rare earth minerals\n",
    "- The silicon roadmap\n",
    "- Waste Electrical and Electronic Equipment (WEEE)\n",
    "- Moore's law\n",
    "- \"Fab 21\" in arizona\n",
    "- The internet of things\n",
    "- Taiwan (TSMC)\n",
    "- Pandemic ship shortage\n",
    "\n",
    "2. Identify a **speaker** and a **reporter** in your group (7 min).\n",
    "\n",
    "    - The speaker is the only one presenting at the end\n",
    "    - The reporter is responsible for the deliverable (here, a filled template)\n",
    "\n",
    "3. Search for a good **summary** on the internet (the best would be a summary of various sources - scholar, wikipedia, ChatGPT...)(25 min)\n",
    "4. Identify 3 to 5 **keywords** in this text (10 min)\n",
    "5. Each member must become the \"expert\" of **one** keyword. This expert must work by himself to **clarify** and **explicitate** the link of this keyword with electronics. (20 min)\n",
    "6. **Brief your speaker** on each keyword (as he is the only representative in your company). (10 min)\n",
    "7. Select **together** 1 figure (with a good **caption**) and 3 references on the subject to fill the template appropriately. (5 min)\n",
    "\n",
    "During the presentation, the audience is asked to actively participate by **asking clarification questions**. If the speaker cannot answer, he can ask his former consultants team (but it does not seem very serious at an international conference) or even worst, ... ask a devoted professor. \n",
    "\n",
    "Manage your time and your team adequately and don't hesitate to ask me for help if you think I can bring precisions on something that you read.\n",
    "\n",
    "On your marks, get set... See you in **80 minutes**.  "
   ]
  },
  {
   "cell_type": "code",
   "execution_count": null,
   "id": "7dfa87fb",
   "metadata": {},
   "outputs": [],
   "source": []
  }
 ],
 "metadata": {
  "kernelspec": {
   "display_name": "Python 3 (ipykernel)",
   "language": "python",
   "name": "python3"
  },
  "language_info": {
   "codemirror_mode": {
    "name": "ipython",
    "version": 3
   },
   "file_extension": ".py",
   "mimetype": "text/x-python",
   "name": "python",
   "nbconvert_exporter": "python",
   "pygments_lexer": "ipython3",
   "version": "3.9.7"
  }
 },
 "nbformat": 4,
 "nbformat_minor": 5
}
