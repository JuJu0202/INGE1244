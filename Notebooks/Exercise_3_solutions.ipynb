{
 "cells": [
  {
   "cell_type": "markdown",
   "id": "4afb20f3",
   "metadata": {},
   "source": [
    "# Exercise 1\n",
    "\n",
    "See the solution in your reference book: Example 20.3 of your reference book)"
   ]
  },
  {
   "cell_type": "markdown",
   "id": "e2c7da43",
   "metadata": {},
   "source": [
    "# Exercise 2\n",
    "\n",
    "$1.57\\times10^{6}\\;m/s$"
   ]
  },
  {
   "cell_type": "markdown",
   "id": "cfdcef33",
   "metadata": {},
   "source": [
    "# Exercise 3\n",
    "\n",
    "$0.13\\times0.2=0.026€$"
   ]
  },
  {
   "cell_type": "markdown",
   "id": "1b539f82",
   "metadata": {},
   "source": [
    "# Exercise 4\n",
    "\n",
    "A car headlight filament is made of tungsten ($\\rho=5.6\\times 10^{-8}\\;\\Omega m$) and has a \"cold\" resistance of $0.350 \\;\\Omega$. If the filament is a cylinder 4.00 cm long (it may be coiled to save space):\n",
    "\n",
    "1. $A=5.6\\cdot10^{-8}\\cdot\\frac{0.04}{0.350}\\;m^{2}\\; ,\\; D=\\sqrt{\\left(\\frac{4\\cdot A}{\\pi}\\right)}\\approx\\;90\\mu m$\n",
    "2. In a car, you can find a 12V battery and $V=E\\times distance$ hence $E=12/0.04=300\\;V/m\\;or\\;N/C$\n",
    "\n",
    "3. $P_{cold}=12^{2}/0.350\\approx 411\\;W$ and $P_{hot}=12\\times 2.5=30\\;W$"
   ]
  },
  {
   "cell_type": "markdown",
   "id": "8ba04cf5",
   "metadata": {},
   "source": [
    "# Exercise 5\n",
    "\n",
    "$R_{eq}=1.5\\;\\Omega$"
   ]
  },
  {
   "cell_type": "markdown",
   "id": "9ec32fa4",
   "metadata": {},
   "source": [
    "# Exercise 6\n",
    "\n",
    "As it was presented in exercise 4, the power dissipation is much greater when the light bulb is \"cold\" so the filament melts (more probably) quickly after turning the light on.  "
   ]
  },
  {
   "cell_type": "markdown",
   "id": "4b74a3bd",
   "metadata": {},
   "source": [
    "# Exercise 7\n",
    "\n",
    "Ten.\n",
    "\n",
    "$$1=\\frac{1}{\\frac{1}{10}+\\frac{1}{10}+\\frac{1}{10}+\\frac{1}{10}+\\frac{1}{10}+\\frac{1}{10}+\\frac{1}{10}+\\frac{1}{10}+\\frac{1}{10}+\\frac{1}{10}}$$"
   ]
  },
  {
   "cell_type": "markdown",
   "id": "aecd5d2f",
   "metadata": {},
   "source": [
    "# Exercise 8 (reference book - ch. 20 - ex. 63)\n",
    "\n",
    "Quick answer: \n",
    "1. 2 GW\n",
    "2. 1500 $m^{3}/s$\n",
    "Detailed answer can be found here: \n",
    "https://collegephysicsanswers.com/choose-a-chapter"
   ]
  },
  {
   "cell_type": "markdown",
   "id": "62610a83",
   "metadata": {},
   "source": [
    "# Exercise 9 (reference book - ch. 20 - ex. 64)\n",
    "\n",
    "Quick answer: \n",
    "1. 343 A\n",
    "2. 2170 A\n",
    "3. 110 A\n",
    "Detailed answer can be found here: \n",
    "https://collegephysicsanswers.com/choose-a-chapter"
   ]
  },
  {
   "cell_type": "markdown",
   "id": "a5fbbf42",
   "metadata": {},
   "source": [
    "# Exercise 10 (reference book - ch. 20 - ex. 70)\n",
    "\n",
    "Quick answer: \n",
    "1. $1.00\\times10^{4}\\; A$\n",
    "2. $1.00\\times10^{−4}\\;\\Omega$\n",
    "3. 46.8 cm\n",
    "4. This diameter is way too large. The cost of copper, and the cost of the sturdy, closely spaced utility poles needed to support such a large mass of copper, would be prohibitive. The power loss is too small. Also, such a large power transmission should be transmitted with a higher voltage in order to reduce the current.\n",
    "Detailed answer can be found here: \n",
    "https://collegephysicsanswers.com/choose-a-chapter"
   ]
  },
  {
   "cell_type": "markdown",
   "id": "86e7f8a5",
   "metadata": {},
   "source": [
    "# Exercise 11\n",
    "\n",
    "A 12V battery (of internal resistance $r=2\\Omega$) is connected to a 4$\\Omega$ resistor. \n",
    "\n",
    "1. $\\mathcal{E}\\times I=24W$\n",
    "2. $rI^{2}=8W$\n",
    "3. $VI=16W$\n",
    "\n",
    "Note that $24=8+16$ (logic).\n",
    "\n",
    "Now, suppose that this battery is shortcutted, answer again to the above questions. \n",
    "\n",
    "1. $\\mathcal{E}\\times I=72W$\n",
    "2. $rI^{2}=72W$\n",
    "3. $VI=0W$ (because $V=0$)"
   ]
  },
  {
   "cell_type": "markdown",
   "id": "bb03528f",
   "metadata": {},
   "source": [
    "# Exercise 12\n",
    "\n",
    "The solution of the example is presented in the book. "
   ]
  },
  {
   "cell_type": "markdown",
   "id": "93e8aab3",
   "metadata": {},
   "source": [
    "# Chapter 21 - Reference book - complementary exercises\n",
    "\n",
    "- Conceptual questions\n",
    "    - 21.5 : 14\n",
    "- Problems and exercises\n",
    "    - 21.1 : 5, 24, 26\n",
    "    \n",
    "Detailed answer can be found here: \n",
    "https://collegephysicsanswers.com/choose-a-chapter"
   ]
  },
  {
   "cell_type": "code",
   "execution_count": null,
   "id": "d6a71ba0",
   "metadata": {},
   "outputs": [],
   "source": []
  }
 ],
 "metadata": {
  "kernelspec": {
   "display_name": "Python 3 (ipykernel)",
   "language": "python",
   "name": "python3"
  },
  "language_info": {
   "codemirror_mode": {
    "name": "ipython",
    "version": 3
   },
   "file_extension": ".py",
   "mimetype": "text/x-python",
   "name": "python",
   "nbconvert_exporter": "python",
   "pygments_lexer": "ipython3",
   "version": "3.9.7"
  }
 },
 "nbformat": 4,
 "nbformat_minor": 5
}
