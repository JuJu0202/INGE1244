{
 "cells": [
  {
   "cell_type": "markdown",
   "id": "5349c751",
   "metadata": {},
   "source": [
    "# Exercise 1\n",
    "\n",
    "Answer 1. Immediately after the switch is thrown closed, the current is $V_{0}/R$. It decreases from this value to zero exponentially, with a time constant equal to RC."
   ]
  },
  {
   "cell_type": "markdown",
   "id": "1d29587a",
   "metadata": {},
   "source": [
    "# Exercise 2\n",
    "\n",
    "In your notes, we computed $V(t)$. Since $I(t)=C\\frac{dV(t)}{dt}$, we have:\n",
    "\n",
    "$$I(t)=\\frac{V_{0}}{R}exp\\left(-\\frac{t}{\\tau}\\right)$$\n",
    "\n",
    "with $\\tau=RC$"
   ]
  },
  {
   "cell_type": "markdown",
   "id": "6aad8bd9",
   "metadata": {},
   "source": [
    "# Exercise 3\n",
    "\n",
    "The signal is not efficiently transmitted since the time constant $\\tau(=RC)$ is 20 seconds. The \"ON\" time being one second, the capacitor can absolutely not be fully charged during this period. The voltage after a second is given by:\n",
    "\n",
    "$$V(t=1)=V_{0}(1-exp(-\\frac{1}{20}))\\approx 0.05V_{0}$$"
   ]
  },
  {
   "cell_type": "markdown",
   "id": "e711feab",
   "metadata": {},
   "source": [
    "# Exercise 4\n",
    "\n",
    "The detailed solution is in https://web.stanford.edu/class/archive/engr/engr40m.1178/slides/transient.pdf"
   ]
  },
  {
   "cell_type": "markdown",
   "id": "76b8b108",
   "metadata": {},
   "source": [
    "# Exercise 5\n",
    "\n",
    "-"
   ]
  },
  {
   "cell_type": "markdown",
   "id": "3b713beb",
   "metadata": {},
   "source": [
    "# Exercise 6\n",
    "\n",
    "<img title=\"a title\" alt=\"Alt text\" src=\"../Figures/Exercise 5/bulb_solution.png\" width=\"1000\">"
   ]
  }
 ],
 "metadata": {
  "kernelspec": {
   "display_name": "Python 3 (ipykernel)",
   "language": "python",
   "name": "python3"
  },
  "language_info": {
   "codemirror_mode": {
    "name": "ipython",
    "version": 3
   },
   "file_extension": ".py",
   "mimetype": "text/x-python",
   "name": "python",
   "nbconvert_exporter": "python",
   "pygments_lexer": "ipython3",
   "version": "3.9.7"
  }
 },
 "nbformat": 4,
 "nbformat_minor": 5
}
