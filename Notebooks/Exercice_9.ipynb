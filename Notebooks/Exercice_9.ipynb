{
 "cells": [
  {
   "cell_type": "markdown",
   "id": "bafc33d5",
   "metadata": {},
   "source": [
    "# Exercice 1: Job interview \n",
    "\n",
    "(Year 2026) Now that you are graduated, you plan to pursue your dream: working in an electronics company. Your curriculum generated a lot of interest and you are contacted to realize a job interview. Eventhough you are one the short list, your future team manager wants to identify your skills in electronics. She/He tells you that you should not demonstrate too deep technical skills (this is not the job for which you applied) but he/she wants to challenge you on your ability to **pinpoint the key aspects of the value chain of an electronic product**. \n",
    "\n",
    "She/He tells you that you have 45 min to prepare your answer (on paper) and that a 15 min discussion will follow. \n",
    "\n",
    "Here is your task:\n",
    "\n",
    "\"Present the development process of an electronic medical **thermometer**.\"\n",
    "\n",
    "You argue that the instructions are rather vague and that you are not sure of what he/she wants to see in your answer. He/She laughs and tells you that... it is precisely the point - demonstrate your ability to structure your knowledges.\n",
    "\n",
    "In your answer strategy, you plan to mention markets and legal aspects but a friend of yours, already working in this company, suggested you to stress on electronics related **keywords**. \n",
    "\n",
    "On the website of the company, you also found the procedure to rate the interviews and the candidate answer:\n",
    "\n",
    "The key question is: Would the company publish your answer in a promotional manual for our product? \n",
    "\n",
    "Your score is computed as follow: (Rating score)x(Keywords score)+1 point for originality (for a maximum score of 10).\n",
    "\n",
    "##### Rating score table\n",
    "\n",
    "|        Review rating         | Points  |              Rating of answer          |\n",
    "|:-----------------------------|:-------:|---------------------------------------:|\n",
    "|       publish as is          |    3    |        perfect or nearly perfect       |\n",
    "| publish after minor revision |    2    |   small errors that require revision   |\n",
    "|            reject            |    1    | little or no relevance to the question |\n",
    "\n",
    "##### Keywords score table\n",
    "\n",
    "Your ability to use high quality relevant keywords is valued as follow: \n",
    "\n",
    "|                              | Points  |                      Keywords examples          |\n",
    "|:-----------------------------|:-------:|---------------------------------------:|\n",
    "|            Advanced          |    3    |        Resistivity, Relaxation oscillator, time constant $\\tau=2ln(2)RC$ ...       |\n",
    "|            Intermediate      |    2    |   Resistance, Comparator, RC-circuit ...   |\n",
    "|            Basic             |    1    | medium (mesurand), sensor/transducer, circuit, signal, display/data transmission ... |\n",
    "\n"
   ]
  },
  {
   "cell_type": "markdown",
   "id": "a5962d20",
   "metadata": {},
   "source": [
    "# Exercice 2\n",
    "\n",
    "You got the job! You are now (junior) business engineer in your dream electronic company. Your early carrier is structured as follow: you will be involved in 6 months missions in different departments of the the company. For your first mission, you join the **bioinstrumentation** department.\n",
    "\n",
    "Your manager presents you the field:\n",
    "\n",
    "He/She tells you: \"Biomedical engineering and bioinstrumentation are new terms, but the practice behind them has existed for many generations. Since the beginning of mankind, humans have used what was available to them to treat the medical mishaps they encountered. Bioinstrumentation is a new and upcoming field, concentrating on treating diseases and bridging together the engineering and medical worlds. The majority of innovations within the field have occurred in the past 15–20 years, as of 2022. Bioinstrumentation has revolutionized the medical field, and has made treating patients much easier. The instruments/sensors produced by the bioinstrumentation field can convert signals found within the body into electrical signals that can be processed into some form of output.\"\n",
    "\n",
    "He/She continues:\n",
    "\n",
    "\"We just started a new project on **hearing loss troubles**. Our schedule is extremely tight and we have to present the first prototype to a advisory board in 6 months. I think it could be good for you to start with the engineering team to identify quickly their struggles. Miniaturizing the prototype will clearly be the bottleneck of the project but I think you could gain a lot of insights if you have a look at a breadboard prototype. Today, they are working on the amplification of the audio signal. The key feature is to be able to **select the amplifying gain**. Of course, if you are at a music concert, you do not want the same amplification as if you were listening to the radio.\"\n",
    "\n",
    "After a few meandering into the building, you reach the right office. The engineering team welcomes you warmly.\n",
    "\n",
    "After a few minuts of presentations, they tell you that they are working on the **PGA**. What is a PGA you ask ? It is a \"programmable gain amplifier\".\n",
    "\n",
    "The teams wants to present you their work with precision:\n",
    "\n",
    "<img title=\"a title\" alt=\"Alt text\" src=\"../Figures/Exercise 9/Exercise_2.png\" width=\"700\">\n",
    "\n",
    "https://en.wikipedia.org/wiki/NAND_gate\n",
    "\n",
    "https://en.wikipedia.org/wiki/Reed_relay\n",
    "\n",
    "**Questions:** What is the working principle of this object? What is the gain corresponding to each truth table line?"
   ]
  },
  {
   "cell_type": "code",
   "execution_count": null,
   "id": "0d9edb16",
   "metadata": {},
   "outputs": [],
   "source": []
  }
 ],
 "metadata": {
  "kernelspec": {
   "display_name": "Python 3 (ipykernel)",
   "language": "python",
   "name": "python3"
  },
  "language_info": {
   "codemirror_mode": {
    "name": "ipython",
    "version": 3
   },
   "file_extension": ".py",
   "mimetype": "text/x-python",
   "name": "python",
   "nbconvert_exporter": "python",
   "pygments_lexer": "ipython3",
   "version": "3.9.7"
  }
 },
 "nbformat": 4,
 "nbformat_minor": 5
}
