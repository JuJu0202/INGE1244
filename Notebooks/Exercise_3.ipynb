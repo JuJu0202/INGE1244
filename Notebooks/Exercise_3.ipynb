{
 "cells": [
  {
   "cell_type": "markdown",
   "id": "2fc53128",
   "metadata": {},
   "source": [
    "# Exercise 1\n",
    "\n",
    "Calculate the drift velocity ($v_{d}$) of electrons in a copper wire which has a diameter of 2.053 mm carrying a 20.0-A current,\n",
    "given that there is one free electron per copper atom. (Household wiring often contains such copper wire, and the\n",
    "maximum current allowed in such wire is usually 20 A.) The density of copper is $8.8\\times 10^{3}kg/m^{3}$. (Example 20.3 of your reference book)"
   ]
  },
  {
   "cell_type": "markdown",
   "id": "4cffa2c6",
   "metadata": {},
   "source": [
    "# Exercise 2\n",
    "\n",
    "Considering that the Fermi energy in copper ($E_{F}=7\\;eV$) is pure kinetic energy, what is the velocity of copper free electron between two collisions with the copper ions?"
   ]
  },
  {
   "cell_type": "markdown",
   "id": "1cec4aee",
   "metadata": {},
   "source": [
    "# Exercise 3\n",
    "\n",
    "A kilowatt-hour costs, on average, in belgium, about 0.13€. What does it cost to operate a smoothy maker (1200W) for 10 min ? "
   ]
  },
  {
   "cell_type": "markdown",
   "id": "7f4668dc",
   "metadata": {},
   "source": [
    "# Exercise 4\n",
    "\n",
    "A car headlight filament is made of tungsten ($\\rho=5.6\\times 10^{-8}\\;\\Omega m$) and has a \"cold\" resistance of $0.350 \\;\\Omega$. If the filament is a cylinder 4.00 cm long (it may be coiled to save space):\n",
    "\n",
    "1. What is its diameter?\n",
    "2. What is the value of the electric field in the filament ?\n",
    "\n",
    "In a hot configuration (in steady state working conditions), the current measured through the headlight is 2.5 A.\n",
    "\n",
    "3. Can you compare the power dissipated in both the \"cold\" ($P_{c}$) and the \"hot\" ($P_{h}$) situation? In a first time, work with your intuition and in a second time, compute the actual values."
   ]
  },
  {
   "cell_type": "markdown",
   "id": "4effe138",
   "metadata": {},
   "source": [
    "# Exercise 5\n",
    "\n",
    "What is the equivalent resistance to the following circuit ?\n",
    "\n",
    "<img title=\"a title\" alt=\"Alt text\" src=\"../Figures/Exercise 3/res_circuit.png\" width=\"400\">"
   ]
  },
  {
   "cell_type": "markdown",
   "id": "19e9fb2b",
   "metadata": {},
   "source": [
    "# Exercise 6\n",
    "\n",
    "An electric bulb almost always burns out when it has just been turned on and almost never while the light is shining. Why?"
   ]
  },
  {
   "cell_type": "markdown",
   "id": "b8dbf2d8",
   "metadata": {},
   "source": [
    "# Exercise 7\n",
    "\n",
    "How many 10 $\\Omega s$ resistance must be connected in parallel to produce an equivalent resistance of 1 $\\Omega$ ?"
   ]
  },
  {
   "cell_type": "markdown",
   "id": "73a491fd",
   "metadata": {},
   "source": [
    "# Exercise 8 (reference book - ch. 20 - ex. 63)\n",
    "\n",
    "Hydroelectric generators at Hoover Dam produce a maximum current of $8.00\\times10^{3}\\;A$ at 250 kV. \n",
    "\n",
    "1. What is the power output?\n",
    "2. The water that powers the generators enters and leaves the system at low speed (thus its kinetic energy does not change) but loses 160 m in altitude. How many cubic meters per second are needed, assuming 85.0% efficiency?"
   ]
  },
  {
   "cell_type": "markdown",
   "id": "6709515d",
   "metadata": {},
   "source": [
    "# Exercise 9 (reference book - ch. 20 - ex. 64)\n",
    "\n",
    "Assuming 95.0% efficiency for the conversion of electrical power by the motor, what current must the 12.0-V batteries of a 750-kg electric car be able to supply:\n",
    "1. To accelerate from rest to 25.0 m/s in 1.00 min? \n",
    "2. To climb a 200 m-high hill in 2.00 min at a constant 25.0-m/s speed while exerting 500 N of force to overcome air resistance and friction? (c)\n",
    "3. To travel at a constant 25.0-m/s speed, exerting a 500 N force to overcome air resistance and friction?"
   ]
  },
  {
   "cell_type": "markdown",
   "id": "727bc6d6",
   "metadata": {},
   "source": [
    "# Exercise 10 (reference book - ch. 20 - ex. 70)\n",
    "\n",
    "The following exercise presents unreasonable results - can you criticize them ?\n",
    "1. What current is needed to transmit $100\\;MW$ of power at 10.0 kV?\n",
    "2. Find the resistance of 1.00 km of wire that would cause a 0.0100% power loss.\n",
    "3. What is the diameter of a 1.00-km-long copper wire having this resistance? \n",
    "4. What is unreasonable about these results? Which assumptions are unreasonable, or which premises are inconsistent?"
   ]
  },
  {
   "cell_type": "markdown",
   "id": "2f46873b",
   "metadata": {},
   "source": [
    "# Exercise 11\n",
    "\n",
    "A 12V battery (of internal resistance $r=2\\Omega$) is connected to a 4$\\Omega$ resistor. \n",
    "\n",
    "1. What is the rate of energy conversion (from chemical to electric)? (this rate is a power)\n",
    "2. What is the rate of dissipation of energy in the battery ? (rate=power)\n",
    "3. What is the power output of the source (transmitted to the resistor) ?\n",
    "\n",
    "Now, suppose that this battery is shortcutted, answer again to the above questions. "
   ]
  },
  {
   "cell_type": "markdown",
   "id": "9e382dc7",
   "metadata": {},
   "source": [
    "# Exercise 12\n",
    "\n",
    "Read the section 21.3 of your reference book related to Kirchhoff's law and try to solve example 21.5."
   ]
  },
  {
   "cell_type": "markdown",
   "id": "6bd6cf58",
   "metadata": {},
   "source": [
    "# Chapter 21 - Reference book\n",
    "\n",
    "- Conceptual questions\n",
    "    - 21.5 : 14\n",
    "- Problems and exercises\n",
    "    - 21.1 : 5, 24, 26"
   ]
  },
  {
   "cell_type": "code",
   "execution_count": null,
   "id": "649ab5d3",
   "metadata": {},
   "outputs": [],
   "source": []
  }
 ],
 "metadata": {
  "kernelspec": {
   "display_name": "Python 3 (ipykernel)",
   "language": "python",
   "name": "python3"
  },
  "language_info": {
   "codemirror_mode": {
    "name": "ipython",
    "version": 3
   },
   "file_extension": ".py",
   "mimetype": "text/x-python",
   "name": "python",
   "nbconvert_exporter": "python",
   "pygments_lexer": "ipython3",
   "version": "3.9.7"
  }
 },
 "nbformat": 4,
 "nbformat_minor": 5
}
