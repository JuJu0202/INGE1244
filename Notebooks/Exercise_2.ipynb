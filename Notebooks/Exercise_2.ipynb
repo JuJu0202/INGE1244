{
 "cells": [
  {
   "cell_type": "markdown",
   "id": "120097dd",
   "metadata": {},
   "source": [
    "# Exercise 0\n",
    "\n",
    "How many electrons flow through a 3 Amp wire each minute?"
   ]
  },
  {
   "cell_type": "markdown",
   "id": "a3c02621",
   "metadata": {},
   "source": [
    "# Exercise 1\n",
    "\n",
    "Consider two identical resistors wired in series (one behind the other). If\n",
    "there is an electric current through the combination, the current in the\n",
    "second resistor is:\n",
    "\n",
    "1. equal to\n",
    "2. half\n",
    "3. smaller than, but not necessarily half\n",
    "\n",
    "the current through the first resistor."
   ]
  },
  {
   "cell_type": "markdown",
   "id": "af9accb9",
   "metadata": {},
   "source": [
    "# Exercise 2\n",
    "\n",
    "As more identical resistors R are added to the parallel circuit shown here, the total resistance between points P and Q\n",
    "\n",
    "<img title=\"a title\" alt=\"Alt text\" src=\"../Figures/Exercise 2/Exercise_2.jpg\" width=\"300\">\n",
    "\n",
    "1. increases.\n",
    "2. remains the same.\n",
    "3. decreases."
   ]
  },
  {
   "cell_type": "markdown",
   "id": "b2387ac3",
   "metadata": {},
   "source": [
    "# Exercise 3\n",
    "\n",
    "Consider a pair of identical lightbulbs (represented by a resistor symbol on the figure below) connected to a battery of 12V. Will the battery last for a longer period if they are connected in series or in parallel ?\n",
    "\n",
    "<img title=\"a title\" alt=\"Alt text\" src=\"../Figures/Exercise 2/Exercise_3.jpg\" width=\"300\">"
   ]
  },
  {
   "cell_type": "markdown",
   "id": "b5469abc",
   "metadata": {},
   "source": [
    "# Exercise 4\n",
    "\n",
    "Charge flows through a light bulb. Suppose a wire is connected across the bulb as shown. When the wire is connected,\n",
    "\n",
    "<img title=\"a title\" alt=\"Alt text\" src=\"../Figures/Exercise 2/Exercise_4.jpg\" width=\"300\">\n",
    "\n",
    "1. all the charge continues to flow through the bulb.\n",
    "2. half the charge flows through the wire, the other half continues through the bulb.\n",
    "3. all the charge flows through the wire.\n",
    "4. none of the above"
   ]
  },
  {
   "cell_type": "markdown",
   "id": "8dc94294",
   "metadata": {},
   "source": [
    "# Exercise 5\n",
    "\n",
    "The circuit below consists of two identical light bulbs burning with equal brightness and a single 12 V battery. When the switch is closed, the brightness of bulb A\n",
    "\n",
    "<img title=\"a title\" alt=\"Alt text\" src=\"../Figures/Exercise 2/Exercise_5.jpg\" width=\"300\">\n",
    "\n",
    "1. increases.\n",
    "2. remains unchanged.\n",
    "3. decreases."
   ]
  },
  {
   "cell_type": "markdown",
   "id": "d9d5c85a",
   "metadata": {},
   "source": [
    "# Exercise 6\n",
    "\n",
    "The light bulbs in the circuit are identical. When the switch is closed,\n",
    "\n",
    "<img title=\"a title\" alt=\"Alt text\" src=\"../Figures/Exercise 2/Exercise_6.jpg\" width=\"300\">\n",
    "\n",
    "1. both go out.\n",
    "2. the intensity of light bulb A increases.\n",
    "3. the intensity of light bulb A decreases.\n",
    "4. the intensity of light bulb B increases.\n",
    "5. the intensity of light bulb B decreases.\n",
    "6. some combination of 1-5 occurs.\n",
    "7. nothing changes."
   ]
  },
  {
   "cell_type": "markdown",
   "id": "a699d2fc",
   "metadata": {},
   "source": [
    "# Logic with switches\n",
    "\n",
    "Here is a table that can help during the following exercises.\n",
    "\n",
    "<img title=\"a title\" alt=\"Alt text\" src=\"../Figures/Exercise 2/truth.jpg\" width=\"700\">\n",
    "\n",
    "where: T = true (**ON**) and F = false (**OFF**). The superscripts 0 to 15 are the numbers resulting from reading the four truth values as a binary number with F = 0 and T = 1 (this sentence will be explained later in the course, so no worries)."
   ]
  },
  {
   "cell_type": "markdown",
   "id": "25bdf7da",
   "metadata": {},
   "source": [
    "# Exercise 7\n",
    "\n",
    "Considering that there is a bijection between the following circuit and Truth table (when Alice and Bob press the switches corresponding to their color - \"0\" means that the switch does not conduct electricity and \"1\" conducts),\n",
    "\n",
    "<img title=\"a title\" alt=\"Alt text\" src=\"../Figures/Exercise 2/Exercise_7.png\" width=\"700\">\n",
    "\n",
    "construct the circuits corresponding to the NOR and OR gates."
   ]
  },
  {
   "cell_type": "markdown",
   "id": "41d09551",
   "metadata": {},
   "source": [
    "# Exercise 8\n",
    "\n",
    "Here are the symbol and the Truth table for the NAND gate (universal gate).\n",
    "\n",
    "<img title=\"a title\" alt=\"Alt text\" src=\"../Figures/Exercise 2/nand.png\" width=\"400\">\n",
    "\n",
    "The NAND gate is an AND gate with an inverted output. \"Inverted\" signifies the following Truth table:\n",
    "\n",
    "<img title=\"a title\" alt=\"Alt text\" src=\"../Figures/Exercise 2/inverter.jpg\" width=\"100\">\n",
    "\n",
    "Can you realize (with the NAND symbol) the circuit corresponding to the previous single input (only Alice) Truth table ?"
   ]
  },
  {
   "cell_type": "markdown",
   "id": "fc86655e",
   "metadata": {},
   "source": [
    "# Exercise 9\n",
    "\n",
    "Using only NAND symbols, construct the XOR universal gate (hint: four NAND gate are required). Does your circuit correspond to the appropriate Truth table?"
   ]
  },
  {
   "cell_type": "markdown",
   "id": "703caec2",
   "metadata": {},
   "source": [
    "# Exercise 10\n",
    "\n",
    "Fill the following Truth table (the three last columns, with \"O\" and \"1\" in a logic way) corresponding to the 3-input NAND gate.\n",
    "\n",
    "<img title=\"a title\" alt=\"Alt text\" src=\"../Figures/Exercise 2/Exercise_10.png\" width=\"400\">\n",
    "\n",
    "This is **one** out of the 256 Truth tables that can be constructed with a 3-input gate. Where does this 256 comes from? "
   ]
  },
  {
   "cell_type": "markdown",
   "id": "8f9b9670",
   "metadata": {},
   "source": [
    "# Exercise 11\n",
    "\n",
    "Using a base-2 (binary) representation for number, express the following numbers:\n",
    "\n",
    "- 2\n",
    "- 13\n",
    "- 517"
   ]
  },
  {
   "cell_type": "markdown",
   "id": "ceab0c5a",
   "metadata": {},
   "source": [
    "# Exercise 12\n",
    "\n",
    "These numbers are expressed using the binary representation. Express them in base-10.\n",
    "\n",
    "- 101\n",
    "- 1000\n",
    "- 1000011"
   ]
  },
  {
   "cell_type": "markdown",
   "id": "d2bffe05",
   "metadata": {},
   "source": [
    "# Exercise 13\n",
    "\n",
    "Using a base-26 representation of numbers (based on the alphabet), you want to communicate the answer to an exam question to another student , if you get caught, you don't want your teacher to be accuse you directly.\n",
    "\n",
    "<img title=\"a title\" alt=\"Alt text\" src=\"../Figures/Exercise 2/alphabet.png\" width=\"400\">\n",
    "\n",
    "The space in the sentence should be interpreted as \"+\" (that is your convention).\n",
    "\n",
    "Unfortunately, you were spotted! Here is the sentence you wanted to communicate:\n",
    "\n",
    "\"GSH CIG FUD\"\n",
    "\n",
    "What was the final answer? "
   ]
  },
  {
   "cell_type": "markdown",
   "id": "3f3b718f",
   "metadata": {},
   "source": [
    "# Exercise 14\n",
    "\n",
    "Here's a brief overview of what you can expect when you make chocolate chip muffins at home:\n",
    "\n",
    "1. Mix the wet ingredients in one bowl and the dry ingredients in another.\n",
    "2. Make a well in the dry mixture, then pour in the wet mixture and stir.\n",
    "3. Spoon the batter into the prepared muffin tin. Top with sugar.\n",
    "4. Bake the muffins until the top springs back when lightly pressed.\n",
    "\n",
    "Can you realize such an overview of what you can expect when you make a PCB? Don't hesitate to use drawings. "
   ]
  },
  {
   "cell_type": "markdown",
   "id": "31248264",
   "metadata": {},
   "source": [
    "# Exercise 15\n",
    "\n",
    "Here is a picture of the silicon die of the \"Timer 555\" (nicknamed \"the greatest chips of all time\"):\n",
    "\n",
    "<img title=\"a title\" alt=\"Alt text\" src=\"../Figures/Exercise 2/timer555.jpg\" width=\"600\">\n",
    "\n",
    "- How many chip's external pins can we expect on the DIP package (epoxy package)?\n",
    "- What do you think is the \"yellowish\" material that we see (almost everywhere) atop of the die? \n",
    "- Based on what has been seen in course 3, could you propose a fabrication process for this layer?"
   ]
  },
  {
   "cell_type": "markdown",
   "id": "35e7115e",
   "metadata": {},
   "source": [
    "# Exercise 16\n",
    "\n",
    "Sketch a basic silicon-based transistor.In a single sentence, explain how it can be used as a switch? When talking about the 10 nm technology, what characteristic length are we refering to ?"
   ]
  },
  {
   "cell_type": "code",
   "execution_count": null,
   "id": "9c6a32f8",
   "metadata": {},
   "outputs": [],
   "source": []
  }
 ],
 "metadata": {
  "kernelspec": {
   "display_name": "Python 3 (ipykernel)",
   "language": "python",
   "name": "python3"
  },
  "language_info": {
   "codemirror_mode": {
    "name": "ipython",
    "version": 3
   },
   "file_extension": ".py",
   "mimetype": "text/x-python",
   "name": "python",
   "nbconvert_exporter": "python",
   "pygments_lexer": "ipython3",
   "version": "3.9.7"
  }
 },
 "nbformat": 4,
 "nbformat_minor": 5
}
