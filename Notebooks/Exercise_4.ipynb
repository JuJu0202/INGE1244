{
 "cells": [
  {
   "cell_type": "markdown",
   "id": "ed331fa8",
   "metadata": {},
   "source": [
    "# Exercise 1\n",
    "\n",
    "Here are four surfaces:\n",
    "\n",
    "<img title=\"a title\" alt=\"Alt text\" src=\"../Figures/Exercise 4/surfaces.png\" width=\"500\">\n",
    "\n",
    "I have at my disposal four parametric surface definitions that, I am sure, match the surfaces I present on this figure. The problem is that I cannot tell \"who is who\"... Can you help me figuring out?\n",
    "\n",
    "1. $$f(u,v) = u,\\;g(u,v) = sin(u)cos(v),\\;h(u,v) = sin(u)sin(v)$$ with $$(u,v)\\in[0,2\\pi]\\times[0,2\\pi]$$ $$$$\n",
    "\n",
    "2. $$f(u,v) = (2+sin(v))cos(u),\\;g(u,v) = (2+sin(v))sin(u),\\;h(u,v) = u+cos(v)$$ with $$(u,v)\\in[0,4\\pi]\\times[0,2\\pi]$$ $$$$\n",
    "\n",
    "3. $$f(u,v) = ucos(v),\\;g(u,v) = usin(v),\\;h(u,v) = v$$ with $$(u,v)\\in[0,2\\pi]\\times[0,4\\pi]$$ $$$$\n",
    "\n",
    "4. $$f(u,v) = sin(v),\\;g(u,v) = cos(u)sin(2v),\\;h(u,v) = sin(u)sin(2v)$$ with $$(u,v)\\in[0,2\\pi]\\times[0,2\\pi]$$"
   ]
  },
  {
   "cell_type": "markdown",
   "id": "927053e0",
   "metadata": {},
   "source": [
    "# Exercise 2\n",
    "\n",
    "I have at my disposal  four vector fields definitions in two dimensions that, I am sure, match the fields presented on this figure. The problem is that I cannot tell \"who is who\"... Can you help me figuring out? \n",
    "\n",
    "<img title=\"a title\" alt=\"Alt text\" src=\"../Figures/Exercise 4/vector_fields.png\" width=\"500\">\n",
    "\n",
    "1. $$f(x,y) = cos(x),\\;g(u,v) = sin(y)$$ with $$(x,y)\\in[0,\\pi]\\times[0,\\pi]$$ $$$$\n",
    "\n",
    "2. $$f(x,y) = y,\\;g(u,v) = x$$ with $$(x,y)\\in[0,\\pi]\\times[0,\\pi]$$ $$$$\n",
    "\n",
    "3. $$f(x,y) = 1,\\;g(u,v) = 2exp(-(y-\\pi/2)^{2})$$ with $$(x,y)\\in[0,\\pi]\\times[0,\\pi]$$ $$$$\n",
    "\n",
    "4. $$f(x,y) = x-y,\\;g(u,v) = y-x$$ with $$(x,y)\\in[0,\\pi]\\times[0,\\pi]$$ $$$$"
   ]
  },
  {
   "cell_type": "markdown",
   "id": "c1840a01",
   "metadata": {},
   "source": [
    "# Exercise 3\n",
    "\n",
    "Express the electric field $\\vec{E}$ measured a distance $d$ from an infinite positively charged plane. The charge density is given as $+\\sigma$. Hint: apply Gauss's law with an adequately choosen closed surface. \n",
    "\n",
    "<img title=\"a title\" alt=\"Alt text\" src=\"../Figures/Exercise 4/efield_plane.png\" width=\"400\">"
   ]
  },
  {
   "cell_type": "markdown",
   "id": "87fc5fac",
   "metadata": {},
   "source": [
    "# Exercise 4\n",
    "\n",
    "From this field that you computed in exercise 3, deduce the value of the electric field in every region of space (zone I, II and III) for the configuration where two infinite plates (charged $+\\sigma$ and $-\\sigma$, respectivelly) are parallel and a distance $d$ appart from one another. \n",
    "\n",
    "<img title=\"a title\" alt=\"Alt text\" src=\"../Figures/Exercise 4/efield_2planes.png\" width=\"300\">"
   ]
  },
  {
   "cell_type": "markdown",
   "id": "561bc96d",
   "metadata": {},
   "source": [
    "# Exercise 5\n",
    "\n",
    "Link the value of the electric field that you computed in exercise 4 to the potential difference ($V$) between the two planes presented in exercise 4. Suppose now that an actual object is realized from this two plates model. The two plates are realized as squares of side $L$ of area $A\\;(=L^{2})$. The model is considered as \"valid\" to describe the real world object as long as $d$ is much (much) smaller than $L$. For this finite size object, what is the value of the ratio between the charge $\\pm Q\\;(=\\pm\\sigma A)$ and the difference of potential $V$. To answer the previous question, compute:\n",
    "\n",
    "$$\\frac{Q}{V}=...$$\n",
    "\n",
    "This quantity is called, the capacitance (noted with the letter $C$) of the capacitor. "
   ]
  },
  {
   "cell_type": "markdown",
   "id": "25ffef0d",
   "metadata": {},
   "source": [
    "# Exercise 6\n",
    "\n",
    "A conductive hollow sphere of radius $R$ is charged with a total charge $+Q$. Compute the electric field as a function of $r$ (the distance variable in spherical polar coordinates). \n",
    "\n",
    "<img title=\"a title\" alt=\"Alt text\" src=\"../Figures/Exercise 4/hollow_sphere.png\" width=\"300\">\n",
    "\n",
    "Present your findings in the form of a graph of $E$ as a function of $r$ ranges from 0 towards positive values. What happens when $r=R$? "
   ]
  },
  {
   "cell_type": "markdown",
   "id": "16263efb",
   "metadata": {},
   "source": [
    "# Exercise 7\n",
    "\n",
    "Compared with the applied electric field, the electric field within a linear dielectric is:\n",
    "\n",
    "1. smaller.\n",
    "2. larger.\n",
    "3. depends on the dielectric"
   ]
  },
  {
   "cell_type": "markdown",
   "id": "da8d57f8",
   "metadata": {},
   "source": [
    "# Exercise 8\n",
    "\n",
    "In order to increase the energy stored in a parallel-plate capacitor when an electric potential is applied, we should:\n",
    "\n",
    "1. increase the area of the plates.\n",
    "2. increase the separation between the plates.\n",
    "3. insert a dielectric between the plates.\n",
    "4. all of the above\n",
    "5. two of the above\n",
    "5. none of the above"
   ]
  },
  {
   "cell_type": "markdown",
   "id": "e6f95487",
   "metadata": {},
   "source": [
    "# Exercise 9\n",
    "\n",
    "Consider a simple parallel-plate capacitor whose plates are given equal and opposite charges and are separated by a distance d. Suppose the plates are pulled apart until they are separated by a distance D > d. The electrostatic energy stored in the capacitor is:\n",
    "1. greater than\n",
    "2. the same as\n",
    "3. smaller than\n",
    "\n",
    "before the plates were pulled apart."
   ]
  },
  {
   "cell_type": "markdown",
   "id": "10417fff",
   "metadata": {},
   "source": [
    "# Exercise 10\n",
    "\n",
    "A dielectric is inserted between the plates of a capacitor. The system is then charged and the dielectric is removed.l%e electrostatic energy stored in the capacitor is\n",
    "\n",
    "1. greater than\n",
    "2. the same as\n",
    "3. smaller than\n",
    "\n",
    "it would have been if the dielectric were left in place."
   ]
  },
  {
   "cell_type": "markdown",
   "id": "dc72a8cf",
   "metadata": {},
   "source": [
    "# Exercises from you reference book\n",
    "\n",
    "- Examples\n",
    "    - 19.8, 19.9, 19.10, 19.11\n",
    "- Conceptual questions\n",
    "    - 19.15 : 14, 17, \n",
    "- Problems and exercises\n",
    "    - 19.6 : 57, 58, 60\n",
    "    - 19.7 : 64"
   ]
  },
  {
   "cell_type": "code",
   "execution_count": null,
   "id": "a5f7852a",
   "metadata": {},
   "outputs": [],
   "source": []
  }
 ],
 "metadata": {
  "kernelspec": {
   "display_name": "Python 3 (ipykernel)",
   "language": "python",
   "name": "python3"
  },
  "language_info": {
   "codemirror_mode": {
    "name": "ipython",
    "version": 3
   },
   "file_extension": ".py",
   "mimetype": "text/x-python",
   "name": "python",
   "nbconvert_exporter": "python",
   "pygments_lexer": "ipython3",
   "version": "3.9.7"
  }
 },
 "nbformat": 4,
 "nbformat_minor": 5
}
