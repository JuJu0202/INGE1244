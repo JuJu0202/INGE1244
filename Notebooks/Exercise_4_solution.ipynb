{
 "cells": [
  {
   "cell_type": "markdown",
   "id": "1238e25a",
   "metadata": {},
   "source": [
    "# Exercise 1\n",
    "\n",
    "1. (b)\n",
    "2. (a)\n",
    "3. (d)\n",
    "4. (c)"
   ]
  },
  {
   "cell_type": "markdown",
   "id": "41e8c5c0",
   "metadata": {},
   "source": [
    "# Exercise 2\n",
    "\n",
    "1. (b)\n",
    "2. (a)\n",
    "3. (c)\n",
    "4. (d)"
   ]
  },
  {
   "cell_type": "markdown",
   "id": "c68f3aae",
   "metadata": {},
   "source": [
    "# Exercise 3\n",
    "\n",
    "$$\\vec{E}=\\frac{+\\sigma}{2\\epsilon_{0}}\\textbf{e}_{z}$$ \n",
    "(independent of $d$ !)"
   ]
  },
  {
   "cell_type": "markdown",
   "id": "6f8613fa",
   "metadata": {},
   "source": [
    "# Exercise 4\n",
    "\n",
    "Zone I:\n",
    "$$\\vec{E}=0\\textbf{e}_{z}$$ \n",
    "Zone II:\n",
    "$$\\vec{E}=\\frac{-\\sigma}{\\epsilon_{0}}\\textbf{e}_{z}$$\n",
    "Zone III:\n",
    "$$\\vec{E}=0\\textbf{e}_{z}$$ \n"
   ]
  },
  {
   "cell_type": "markdown",
   "id": "a2fda07f",
   "metadata": {},
   "source": [
    "# Exercise 5\n",
    "\n",
    "$$\\frac{Q}{V}=C=\\frac{\\epsilon_{0}A}{d}$$"
   ]
  },
  {
   "cell_type": "markdown",
   "id": "969b368a",
   "metadata": {},
   "source": [
    "# Exercise 6\n",
    "\n",
    "$$\\vec{E}=0\\textbf{e}_{r}$$ if $$0\\leq r<R$$ $$$$\n",
    "$$\\vec{E}=\\frac{1}{4\\pi\\epsilon_{0}}\\frac{+Q}{r^{2}}\\textbf{e}_{r}$$ if $$R\\leq r<\\infty$$ $$$$"
   ]
  },
  {
   "cell_type": "markdown",
   "id": "aca1a5b1",
   "metadata": {},
   "source": [
    "# Exercise 7\n",
    "\n",
    "Answer 1."
   ]
  },
  {
   "cell_type": "markdown",
   "id": "200436d7",
   "metadata": {},
   "source": [
    "# Exercise 8 \n",
    "\n",
    "Answer 5."
   ]
  },
  {
   "cell_type": "markdown",
   "id": "cbef58ea",
   "metadata": {},
   "source": [
    "# Exercise 9\n",
    "\n",
    "Answer 1. Since the oppositely charged plates are attracted to each other, work must be done to increase the separation between them. Thus, the electrostatic energy stored in the capacitor increases when the plates are separated."
   ]
  },
  {
   "cell_type": "markdown",
   "id": "0a0fb49c",
   "metadata": {},
   "source": [
    "# Exercise 10\n",
    "\n",
    "Answer: 1. The dielectric is polarized when it is between the charged plates. The positively charged dielectric surface is attracted to the negatively charged plate, and the negatively charged dielectric surface is attracted to the positively charged plate.Thus, you must do work to remove the dielectric. As a result, the electrostatic energy stored in the capacitor increases when the dielectric is removed."
   ]
  },
  {
   "cell_type": "markdown",
   "id": "801e8e02",
   "metadata": {},
   "source": [
    "# Exercises from your reference book\n",
    "\n",
    "Answers can be found here: https://collegephysicsanswers.com/choose-a-chapter"
   ]
  },
  {
   "cell_type": "markdown",
   "id": "639ad841",
   "metadata": {},
   "source": []
  }
 ],
 "metadata": {
  "kernelspec": {
   "display_name": "Python 3 (ipykernel)",
   "language": "python",
   "name": "python3"
  },
  "language_info": {
   "codemirror_mode": {
    "name": "ipython",
    "version": 3
   },
   "file_extension": ".py",
   "mimetype": "text/x-python",
   "name": "python",
   "nbconvert_exporter": "python",
   "pygments_lexer": "ipython3",
   "version": "3.9.7"
  }
 },
 "nbformat": 4,
 "nbformat_minor": 5
}
