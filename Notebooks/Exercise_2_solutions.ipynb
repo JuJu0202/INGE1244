{
 "cells": [
  {
   "cell_type": "markdown",
   "id": "5f6127e7",
   "metadata": {},
   "source": [
    "# Exercise 0\n",
    "\n",
    "Three amperes are 3 [C/s]. An electron has a charge of $1.6\\times10^{-19}$ coulomb (0.625 electrons per coulomb). One minut is 60 sec. The answer is given by:\n",
    "\n",
    "$$3\\times60\\times0.625\\times10^{19}\\;electrons\\approx 10^{21}\\; electrons$$"
   ]
  },
  {
   "cell_type": "markdown",
   "id": "290fe163",
   "metadata": {},
   "source": [
    "# Exercise 1\n",
    "\n",
    "Answer 1. Charge is neither lost nor gained when the current passes through the first resistor."
   ]
  },
  {
   "cell_type": "markdown",
   "id": "6cb9b546",
   "metadata": {},
   "source": [
    "# Exercise 2\n",
    "\n",
    "Answer: 3. The potential difference is the same across each resistor, so the same current flows through each resistor as would flow through an isolated resistor of resistance R. The sum of the currents through all the parallel resistors must equal the input current, so the total current increases as resistors are added and thus the total resistance decreases."
   ]
  },
  {
   "cell_type": "markdown",
   "id": "8a8753d5",
   "metadata": {},
   "source": [
    "# Exercise 3\n",
    "\n",
    "The battery will last longer with the \"series\" connection."
   ]
  },
  {
   "cell_type": "markdown",
   "id": "9b77c18b",
   "metadata": {},
   "source": [
    "# Exercise 4\n",
    "\n",
    "Answer: 3.The wire has essentially zero resistance and is in parallel with the light bulb. Thus, all charge flows through the wire."
   ]
  },
  {
   "cell_type": "markdown",
   "id": "d0acbb87",
   "metadata": {},
   "source": [
    "# Exercise 5\n",
    "\n",
    "Answer: 1. When the switch is closed, bulb B goes out because all of the current is through the wire parallel to the bulb. Thus, the total resistance of the circuit decreases, the current through bulb A increases, and it burns more brightly."
   ]
  },
  {
   "cell_type": "markdown",
   "id": "97b54e70",
   "metadata": {},
   "source": [
    "# Exercise 6\n",
    "\n",
    "Answer: 7. Because the light bulbs are identical, the potential difference across each is 12 V, and so nothing happens with the switch is closed."
   ]
  },
  {
   "cell_type": "markdown",
   "id": "8b91da8e",
   "metadata": {},
   "source": [
    "# Exercise 7\n",
    "\n",
    "NOR gate:\n",
    "\n",
    "<img title=\"a title\" alt=\"Alt text\" src=\"../Figures/Exercise 2/NOR.png\" width=\"500\">\n",
    "\n",
    "OR gate:\n",
    "\n",
    "<img title=\"a title\" alt=\"Alt text\" src=\"../Figures/Exercise 2/OR.png\" width=\"500\">"
   ]
  },
  {
   "cell_type": "markdown",
   "id": "9fed1f44",
   "metadata": {},
   "source": [
    "# Exercise 8\n",
    "\n",
    "<img title=\"a title\" alt=\"Alt text\" src=\"../Figures/Exercise 2/Exercise_8_sol.png\" width=\"200\">"
   ]
  },
  {
   "cell_type": "markdown",
   "id": "4b690a2c",
   "metadata": {},
   "source": [
    "# Exercise 9\n",
    "\n",
    "<img title=\"a title\" alt=\"Alt text\" src=\"../Figures/Exercise 2/xor.png\" width=\"400\">"
   ]
  },
  {
   "cell_type": "markdown",
   "id": "27ec18c4",
   "metadata": {},
   "source": [
    "# Exercise 10\n",
    "\n",
    "<img title=\"a title\" alt=\"Alt text\" src=\"../Figures/Exercise 2/Exercise_10_sol.png\" width=\"400\">\n",
    "\n",
    "The output is \"0\" only when thethree inputs are \"1\". Doing this exercise from the circuit to the Truth table is \"much easier\" than from the Truth table to the circuit. \n",
    "\n",
    "Since there are 8 possible triplets (A,B,C), the number of possible circuit is $2^{8}$.\n",
    "\n",
    "Here is a possible visualisation, if it helps:\n",
    "\n",
    "<img title=\"a title\" alt=\"Alt text\" src=\"../Figures/Exercise 2/Exercise_10_sol_bis.png\" width=\"400\">"
   ]
  },
  {
   "cell_type": "markdown",
   "id": "aaa054e2",
   "metadata": {},
   "source": [
    "# Exercise 11\n",
    "\n",
    "- 2 is 10\n",
    "- 13 is 1101\n",
    "- 517 is 1000000101"
   ]
  },
  {
   "cell_type": "markdown",
   "id": "a58079e5",
   "metadata": {},
   "source": [
    "# Exercise 12\n",
    "\n",
    "- 101 is 5\n",
    "- 1000 is 8\n",
    "- 1000011 is 67"
   ]
  },
  {
   "cell_type": "markdown",
   "id": "72531282",
   "metadata": {},
   "source": [
    "# Exercise 13\n",
    "\n",
    "\"GSH CIG FUD\" corresponds to 4531+1566+3903 (=10000). Reminder: Do not try this during your exams."
   ]
  },
  {
   "cell_type": "markdown",
   "id": "5de75eb9",
   "metadata": {},
   "source": [
    "# Exercise 14\n",
    "\n",
    "Realize a summary of the video presented during course 1. "
   ]
  },
  {
   "cell_type": "markdown",
   "id": "49bd42a0",
   "metadata": {},
   "source": [
    "# Exercise 15\n",
    "\n",
    "- As we can see on the picture, thin wires are expected to connect 8 metal pads on the die. Thus, 8 pins are needed.\n",
    "- To contact electrically the die, a **metal** is deposited (almost everywhere). This fabrication step is called \"metallization\". Aluminum is commonly used.\n",
    "- One can propose the following process where the \"yellowish\" material is aluminum. Note that during the last step, when the photoresist is dissolved, the metal deposited atop the photoresist goes with it (it is called a \"lift-off\" process).\n",
    "\n",
    "<img title=\"a title\" alt=\"Alt text\" src=\"../Figures/Exercise 2/metallization.png\" width=\"800\">"
   ]
  },
  {
   "cell_type": "code",
   "execution_count": null,
   "id": "a91c50d7",
   "metadata": {},
   "outputs": [],
   "source": []
  }
 ],
 "metadata": {
  "kernelspec": {
   "display_name": "Python 3 (ipykernel)",
   "language": "python",
   "name": "python3"
  },
  "language_info": {
   "codemirror_mode": {
    "name": "ipython",
    "version": 3
   },
   "file_extension": ".py",
   "mimetype": "text/x-python",
   "name": "python",
   "nbconvert_exporter": "python",
   "pygments_lexer": "ipython3",
   "version": "3.9.7"
  }
 },
 "nbformat": 4,
 "nbformat_minor": 5
}
